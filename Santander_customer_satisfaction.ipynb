{
  "nbformat": 4,
  "nbformat_minor": 0,
  "metadata": {
    "colab": {
      "name": "Santander customer satisfaction.ipynb",
      "provenance": [],
      "collapsed_sections": [],
      "authorship_tag": "ABX9TyMI4kxmJWjEC0T1MbcJwVFM",
      "include_colab_link": true
    },
    "kernelspec": {
      "name": "python3",
      "display_name": "Python 3"
    }
  },
  "cells": [
    {
      "cell_type": "markdown",
      "metadata": {
        "id": "view-in-github",
        "colab_type": "text"
      },
      "source": [
        "<a href=\"https://colab.research.google.com/github/VighneshAlevoor/ML-Feature-Engineering/blob/master/Santander_customer_satisfaction.ipynb\" target=\"_parent\"><img src=\"https://colab.research.google.com/assets/colab-badge.svg\" alt=\"Open In Colab\"/></a>"
      ]
    },
    {
      "cell_type": "code",
      "metadata": {
        "id": "vGFUGFTMBQXv",
        "colab_type": "code",
        "colab": {
          "base_uri": "https://localhost:8080/",
          "height": 71
        },
        "outputId": "f11cf7d4-4966-4544-e8b4-2fedda209c89"
      },
      "source": [
        "import numpy as np\n",
        "import pandas as pd\n",
        "from sklearn.model_selection import train_test_split\n",
        "from sklearn.feature_selection import variance_threshold"
      ],
      "execution_count": 1,
      "outputs": [
        {
          "output_type": "stream",
          "text": [
            "/usr/local/lib/python3.6/dist-packages/sklearn/utils/deprecation.py:144: FutureWarning: The sklearn.feature_selection.variance_threshold module is  deprecated in version 0.22 and will be removed in version 0.24. The corresponding classes / functions should instead be imported from sklearn.feature_selection. Anything that cannot be imported from sklearn.feature_selection is now part of the private API.\n",
            "  warnings.warn(message, FutureWarning)\n"
          ],
          "name": "stderr"
        }
      ]
    },
    {
      "cell_type": "code",
      "metadata": {
        "id": "zVWa36yDB8vt",
        "colab_type": "code",
        "colab": {
          "base_uri": "https://localhost:8080/",
          "height": 34
        },
        "outputId": "bd79af8f-411f-4773-efc0-ca0282acae2a"
      },
      "source": [
        "df=pd.read_csv('train.csv', nrows=30000)\n",
        "df.head()\n",
        "df.shape"
      ],
      "execution_count": 2,
      "outputs": [
        {
          "output_type": "execute_result",
          "data": {
            "text/plain": [
              "(30000, 371)"
            ]
          },
          "metadata": {
            "tags": []
          },
          "execution_count": 2
        }
      ]
    },
    {
      "cell_type": "code",
      "metadata": {
        "id": "UdmMtCr2CNIo",
        "colab_type": "code",
        "colab": {
          "base_uri": "https://localhost:8080/",
          "height": 51
        },
        "outputId": "08116dc7-ff29-4118-f7d9-bc2ac4197884"
      },
      "source": [
        "x_train,x_test,y_train,y_test=train_test_split(df.drop(['TARGET'], axis=1),\n",
        "                                               df['TARGET'], test_size=0.333333,random_state=0)\n",
        "print(x_train.shape)\n",
        "print(x_test.shape)"
      ],
      "execution_count": 3,
      "outputs": [
        {
          "output_type": "stream",
          "text": [
            "(20000, 370)\n",
            "(10000, 370)\n"
          ],
          "name": "stdout"
        }
      ]
    },
    {
      "cell_type": "code",
      "metadata": {
        "id": "_Ge101LeEE_W",
        "colab_type": "code",
        "colab": {
          "base_uri": "https://localhost:8080/",
          "height": 34
        },
        "outputId": "0181563b-5438-4ff6-f384-0dad5f1e24f5"
      },
      "source": [
        "#remove constant columns\n",
        "const_feat= [feat for feat in x_train.columns if x_train[feat].std()==0]\n",
        "len(const_feat)"
      ],
      "execution_count": 4,
      "outputs": [
        {
          "output_type": "execute_result",
          "data": {
            "text/plain": [
              "64"
            ]
          },
          "metadata": {
            "tags": []
          },
          "execution_count": 4
        }
      ]
    },
    {
      "cell_type": "code",
      "metadata": {
        "id": "WXbq0qgEFKHu",
        "colab_type": "code",
        "colab": {
          "base_uri": "https://localhost:8080/",
          "height": 51
        },
        "outputId": "b64f5b5b-05f3-47ec-ece5-06dcf84fb309"
      },
      "source": [
        "x_train.drop(labels=const_feat,axis=1, inplace=True)\n",
        "x_test.drop(labels=const_feat,axis=1, inplace=True)\n",
        "print(x_train.shape)\n",
        "print(x_test.shape)"
      ],
      "execution_count": 5,
      "outputs": [
        {
          "output_type": "stream",
          "text": [
            "(20000, 306)\n",
            "(10000, 306)\n"
          ],
          "name": "stdout"
        }
      ]
    },
    {
      "cell_type": "code",
      "metadata": {
        "id": "7rnt05GnGO9Q",
        "colab_type": "code",
        "colab": {
          "base_uri": "https://localhost:8080/",
          "height": 34
        },
        "outputId": "e5ee0c6e-674e-41a2-b718-998abbcd01c3"
      },
      "source": [
        "#remove Quasi or almost constant columns\n",
        "quasi=[]\n",
        "for i in x_train.columns:\n",
        "  predomin= (x_train[i].value_counts()/np.float(len(x_train))).sort_values(ascending=False).values[0]\n",
        "  if predomin>0.99:\n",
        "    quasi.append(i)\n",
        "\n",
        "len(quasi)\n",
        "\n"
      ],
      "execution_count": 6,
      "outputs": [
        {
          "output_type": "execute_result",
          "data": {
            "text/plain": [
              "154"
            ]
          },
          "metadata": {
            "tags": []
          },
          "execution_count": 6
        }
      ]
    },
    {
      "cell_type": "code",
      "metadata": {
        "id": "vAwftNj6ROWD",
        "colab_type": "code",
        "colab": {
          "base_uri": "https://localhost:8080/",
          "height": 51
        },
        "outputId": "228fd642-a0c8-47a8-cdcb-8bb209c25855"
      },
      "source": [
        "print(type(quasi))\n",
        "print(type(x_train.columns))"
      ],
      "execution_count": 7,
      "outputs": [
        {
          "output_type": "stream",
          "text": [
            "<class 'list'>\n",
            "<class 'pandas.core.indexes.base.Index'>\n"
          ],
          "name": "stdout"
        }
      ]
    },
    {
      "cell_type": "code",
      "metadata": {
        "id": "CUc2elD0RpR7",
        "colab_type": "code",
        "colab": {
          "base_uri": "https://localhost:8080/",
          "height": 1000
        },
        "outputId": "fa0d21f6-69dd-46fe-f308-dea7432c1fdc"
      },
      "source": [
        "lst=[]\n",
        "for x in x_train.columns:\n",
        "  if x not in quasi:\n",
        "    lst.append(x)\n",
        "lst\n"
      ],
      "execution_count": 8,
      "outputs": [
        {
          "output_type": "execute_result",
          "data": {
            "text/plain": [
              "['ID',\n",
              " 'var3',\n",
              " 'var15',\n",
              " 'imp_ent_var16_ult1',\n",
              " 'imp_op_var39_comer_ult1',\n",
              " 'imp_op_var39_comer_ult3',\n",
              " 'imp_op_var41_comer_ult1',\n",
              " 'imp_op_var41_comer_ult3',\n",
              " 'imp_op_var41_efect_ult1',\n",
              " 'imp_op_var41_efect_ult3',\n",
              " 'imp_op_var41_ult1',\n",
              " 'imp_op_var39_efect_ult1',\n",
              " 'imp_op_var39_efect_ult3',\n",
              " 'imp_op_var39_ult1',\n",
              " 'ind_var1_0',\n",
              " 'ind_var5_0',\n",
              " 'ind_var5',\n",
              " 'ind_var8_0',\n",
              " 'ind_var8',\n",
              " 'ind_var12_0',\n",
              " 'ind_var12',\n",
              " 'ind_var13_0',\n",
              " 'ind_var13_corto_0',\n",
              " 'ind_var13_corto',\n",
              " 'ind_var13_largo_0',\n",
              " 'ind_var13_largo',\n",
              " 'ind_var13',\n",
              " 'ind_var14_0',\n",
              " 'ind_var24_0',\n",
              " 'ind_var24',\n",
              " 'ind_var25_cte',\n",
              " 'ind_var26_0',\n",
              " 'ind_var26_cte',\n",
              " 'ind_var26',\n",
              " 'ind_var25_0',\n",
              " 'ind_var25',\n",
              " 'ind_var30',\n",
              " 'ind_var37_cte',\n",
              " 'ind_var37_0',\n",
              " 'ind_var37',\n",
              " 'ind_var39_0',\n",
              " 'ind_var40_0',\n",
              " 'ind_var41_0',\n",
              " 'num_var1_0',\n",
              " 'num_var4',\n",
              " 'num_var5_0',\n",
              " 'num_var5',\n",
              " 'num_var8_0',\n",
              " 'num_var8',\n",
              " 'num_var12_0',\n",
              " 'num_var12',\n",
              " 'num_var13_0',\n",
              " 'num_var13_corto_0',\n",
              " 'num_var13_corto',\n",
              " 'num_var13_largo_0',\n",
              " 'num_var13_largo',\n",
              " 'num_var13',\n",
              " 'num_var14_0',\n",
              " 'num_var24_0',\n",
              " 'num_var24',\n",
              " 'num_var26_0',\n",
              " 'num_var26',\n",
              " 'num_var25_0',\n",
              " 'num_var25',\n",
              " 'num_op_var41_hace2',\n",
              " 'num_op_var41_hace3',\n",
              " 'num_op_var41_ult1',\n",
              " 'num_op_var41_ult3',\n",
              " 'num_op_var39_hace2',\n",
              " 'num_op_var39_hace3',\n",
              " 'num_op_var39_ult1',\n",
              " 'num_op_var39_ult3',\n",
              " 'num_var30_0',\n",
              " 'num_var30',\n",
              " 'num_var35',\n",
              " 'num_var37_med_ult2',\n",
              " 'num_var37_0',\n",
              " 'num_var37',\n",
              " 'num_var39_0',\n",
              " 'num_var40_0',\n",
              " 'num_var41_0',\n",
              " 'num_var42_0',\n",
              " 'num_var42',\n",
              " 'saldo_var5',\n",
              " 'saldo_var8',\n",
              " 'saldo_var12',\n",
              " 'saldo_var13_corto',\n",
              " 'saldo_var13_largo',\n",
              " 'saldo_var13',\n",
              " 'saldo_var24',\n",
              " 'saldo_var26',\n",
              " 'saldo_var25',\n",
              " 'saldo_var30',\n",
              " 'saldo_var37',\n",
              " 'saldo_var42',\n",
              " 'var36',\n",
              " 'delta_imp_aport_var13_1y3',\n",
              " 'delta_num_aport_var13_1y3',\n",
              " 'imp_aport_var13_hace3',\n",
              " 'imp_var43_emit_ult1',\n",
              " 'imp_trans_var37_ult1',\n",
              " 'ind_var10_ult1',\n",
              " 'ind_var10cte_ult1',\n",
              " 'ind_var9_cte_ult1',\n",
              " 'ind_var9_ult1',\n",
              " 'ind_var43_emit_ult1',\n",
              " 'ind_var43_recib_ult1',\n",
              " 'var21',\n",
              " 'num_aport_var13_hace3',\n",
              " 'num_ent_var16_ult1',\n",
              " 'num_var22_hace2',\n",
              " 'num_var22_hace3',\n",
              " 'num_var22_ult1',\n",
              " 'num_var22_ult3',\n",
              " 'num_med_var22_ult3',\n",
              " 'num_med_var45_ult3',\n",
              " 'num_meses_var5_ult3',\n",
              " 'num_meses_var8_ult3',\n",
              " 'num_meses_var12_ult3',\n",
              " 'num_meses_var13_corto_ult3',\n",
              " 'num_meses_var39_vig_ult3',\n",
              " 'num_op_var39_comer_ult1',\n",
              " 'num_op_var39_comer_ult3',\n",
              " 'num_op_var41_comer_ult1',\n",
              " 'num_op_var41_comer_ult3',\n",
              " 'num_op_var41_efect_ult1',\n",
              " 'num_op_var41_efect_ult3',\n",
              " 'num_op_var39_efect_ult1',\n",
              " 'num_op_var39_efect_ult3',\n",
              " 'num_var43_emit_ult1',\n",
              " 'num_var43_recib_ult1',\n",
              " 'num_trasp_var11_ult1',\n",
              " 'num_var45_hace2',\n",
              " 'num_var45_hace3',\n",
              " 'num_var45_ult1',\n",
              " 'num_var45_ult3',\n",
              " 'saldo_medio_var5_hace2',\n",
              " 'saldo_medio_var5_hace3',\n",
              " 'saldo_medio_var5_ult1',\n",
              " 'saldo_medio_var5_ult3',\n",
              " 'saldo_medio_var8_hace2',\n",
              " 'saldo_medio_var8_ult1',\n",
              " 'saldo_medio_var8_ult3',\n",
              " 'saldo_medio_var12_hace2',\n",
              " 'saldo_medio_var12_hace3',\n",
              " 'saldo_medio_var12_ult1',\n",
              " 'saldo_medio_var12_ult3',\n",
              " 'saldo_medio_var13_corto_hace2',\n",
              " 'saldo_medio_var13_corto_hace3',\n",
              " 'saldo_medio_var13_corto_ult1',\n",
              " 'saldo_medio_var13_corto_ult3',\n",
              " 'var38']"
            ]
          },
          "metadata": {
            "tags": []
          },
          "execution_count": 8
        }
      ]
    },
    {
      "cell_type": "code",
      "metadata": {
        "id": "opGMTb73Snhw",
        "colab_type": "code",
        "colab": {
          "base_uri": "https://localhost:8080/",
          "height": 1000
        },
        "outputId": "4409ec3f-3700-48be-88f6-e58331db140c"
      },
      "source": [
        "lst2=[]\n",
        "for x in x_test.columns:\n",
        "  if x not in quasi:\n",
        "    lst2.append(x)\n",
        "lst2"
      ],
      "execution_count": 9,
      "outputs": [
        {
          "output_type": "execute_result",
          "data": {
            "text/plain": [
              "['ID',\n",
              " 'var3',\n",
              " 'var15',\n",
              " 'imp_ent_var16_ult1',\n",
              " 'imp_op_var39_comer_ult1',\n",
              " 'imp_op_var39_comer_ult3',\n",
              " 'imp_op_var41_comer_ult1',\n",
              " 'imp_op_var41_comer_ult3',\n",
              " 'imp_op_var41_efect_ult1',\n",
              " 'imp_op_var41_efect_ult3',\n",
              " 'imp_op_var41_ult1',\n",
              " 'imp_op_var39_efect_ult1',\n",
              " 'imp_op_var39_efect_ult3',\n",
              " 'imp_op_var39_ult1',\n",
              " 'ind_var1_0',\n",
              " 'ind_var5_0',\n",
              " 'ind_var5',\n",
              " 'ind_var8_0',\n",
              " 'ind_var8',\n",
              " 'ind_var12_0',\n",
              " 'ind_var12',\n",
              " 'ind_var13_0',\n",
              " 'ind_var13_corto_0',\n",
              " 'ind_var13_corto',\n",
              " 'ind_var13_largo_0',\n",
              " 'ind_var13_largo',\n",
              " 'ind_var13',\n",
              " 'ind_var14_0',\n",
              " 'ind_var24_0',\n",
              " 'ind_var24',\n",
              " 'ind_var25_cte',\n",
              " 'ind_var26_0',\n",
              " 'ind_var26_cte',\n",
              " 'ind_var26',\n",
              " 'ind_var25_0',\n",
              " 'ind_var25',\n",
              " 'ind_var30',\n",
              " 'ind_var37_cte',\n",
              " 'ind_var37_0',\n",
              " 'ind_var37',\n",
              " 'ind_var39_0',\n",
              " 'ind_var40_0',\n",
              " 'ind_var41_0',\n",
              " 'num_var1_0',\n",
              " 'num_var4',\n",
              " 'num_var5_0',\n",
              " 'num_var5',\n",
              " 'num_var8_0',\n",
              " 'num_var8',\n",
              " 'num_var12_0',\n",
              " 'num_var12',\n",
              " 'num_var13_0',\n",
              " 'num_var13_corto_0',\n",
              " 'num_var13_corto',\n",
              " 'num_var13_largo_0',\n",
              " 'num_var13_largo',\n",
              " 'num_var13',\n",
              " 'num_var14_0',\n",
              " 'num_var24_0',\n",
              " 'num_var24',\n",
              " 'num_var26_0',\n",
              " 'num_var26',\n",
              " 'num_var25_0',\n",
              " 'num_var25',\n",
              " 'num_op_var41_hace2',\n",
              " 'num_op_var41_hace3',\n",
              " 'num_op_var41_ult1',\n",
              " 'num_op_var41_ult3',\n",
              " 'num_op_var39_hace2',\n",
              " 'num_op_var39_hace3',\n",
              " 'num_op_var39_ult1',\n",
              " 'num_op_var39_ult3',\n",
              " 'num_var30_0',\n",
              " 'num_var30',\n",
              " 'num_var35',\n",
              " 'num_var37_med_ult2',\n",
              " 'num_var37_0',\n",
              " 'num_var37',\n",
              " 'num_var39_0',\n",
              " 'num_var40_0',\n",
              " 'num_var41_0',\n",
              " 'num_var42_0',\n",
              " 'num_var42',\n",
              " 'saldo_var5',\n",
              " 'saldo_var8',\n",
              " 'saldo_var12',\n",
              " 'saldo_var13_corto',\n",
              " 'saldo_var13_largo',\n",
              " 'saldo_var13',\n",
              " 'saldo_var24',\n",
              " 'saldo_var26',\n",
              " 'saldo_var25',\n",
              " 'saldo_var30',\n",
              " 'saldo_var37',\n",
              " 'saldo_var42',\n",
              " 'var36',\n",
              " 'delta_imp_aport_var13_1y3',\n",
              " 'delta_num_aport_var13_1y3',\n",
              " 'imp_aport_var13_hace3',\n",
              " 'imp_var43_emit_ult1',\n",
              " 'imp_trans_var37_ult1',\n",
              " 'ind_var10_ult1',\n",
              " 'ind_var10cte_ult1',\n",
              " 'ind_var9_cte_ult1',\n",
              " 'ind_var9_ult1',\n",
              " 'ind_var43_emit_ult1',\n",
              " 'ind_var43_recib_ult1',\n",
              " 'var21',\n",
              " 'num_aport_var13_hace3',\n",
              " 'num_ent_var16_ult1',\n",
              " 'num_var22_hace2',\n",
              " 'num_var22_hace3',\n",
              " 'num_var22_ult1',\n",
              " 'num_var22_ult3',\n",
              " 'num_med_var22_ult3',\n",
              " 'num_med_var45_ult3',\n",
              " 'num_meses_var5_ult3',\n",
              " 'num_meses_var8_ult3',\n",
              " 'num_meses_var12_ult3',\n",
              " 'num_meses_var13_corto_ult3',\n",
              " 'num_meses_var39_vig_ult3',\n",
              " 'num_op_var39_comer_ult1',\n",
              " 'num_op_var39_comer_ult3',\n",
              " 'num_op_var41_comer_ult1',\n",
              " 'num_op_var41_comer_ult3',\n",
              " 'num_op_var41_efect_ult1',\n",
              " 'num_op_var41_efect_ult3',\n",
              " 'num_op_var39_efect_ult1',\n",
              " 'num_op_var39_efect_ult3',\n",
              " 'num_var43_emit_ult1',\n",
              " 'num_var43_recib_ult1',\n",
              " 'num_trasp_var11_ult1',\n",
              " 'num_var45_hace2',\n",
              " 'num_var45_hace3',\n",
              " 'num_var45_ult1',\n",
              " 'num_var45_ult3',\n",
              " 'saldo_medio_var5_hace2',\n",
              " 'saldo_medio_var5_hace3',\n",
              " 'saldo_medio_var5_ult1',\n",
              " 'saldo_medio_var5_ult3',\n",
              " 'saldo_medio_var8_hace2',\n",
              " 'saldo_medio_var8_ult1',\n",
              " 'saldo_medio_var8_ult3',\n",
              " 'saldo_medio_var12_hace2',\n",
              " 'saldo_medio_var12_hace3',\n",
              " 'saldo_medio_var12_ult1',\n",
              " 'saldo_medio_var12_ult3',\n",
              " 'saldo_medio_var13_corto_hace2',\n",
              " 'saldo_medio_var13_corto_hace3',\n",
              " 'saldo_medio_var13_corto_ult1',\n",
              " 'saldo_medio_var13_corto_ult3',\n",
              " 'var38']"
            ]
          },
          "metadata": {
            "tags": []
          },
          "execution_count": 9
        }
      ]
    },
    {
      "cell_type": "code",
      "metadata": {
        "id": "dCT4fQsnSxgT",
        "colab_type": "code",
        "colab": {
          "base_uri": "https://localhost:8080/",
          "height": 34
        },
        "outputId": "8c7cbc56-f51c-458c-d721-fc515fced86b"
      },
      "source": [
        "x_train=x_train[lst]\n",
        "x_train.shape"
      ],
      "execution_count": 10,
      "outputs": [
        {
          "output_type": "execute_result",
          "data": {
            "text/plain": [
              "(20000, 152)"
            ]
          },
          "metadata": {
            "tags": []
          },
          "execution_count": 10
        }
      ]
    },
    {
      "cell_type": "code",
      "metadata": {
        "id": "D5QBvyKWSaea",
        "colab_type": "code",
        "colab": {
          "base_uri": "https://localhost:8080/",
          "height": 34
        },
        "outputId": "4d111897-26a0-4b40-fa4e-f160152e209f"
      },
      "source": [
        "x_test=x_test[lst2]\n",
        "x_test.shape"
      ],
      "execution_count": 11,
      "outputs": [
        {
          "output_type": "execute_result",
          "data": {
            "text/plain": [
              "(10000, 152)"
            ]
          },
          "metadata": {
            "tags": []
          },
          "execution_count": 11
        }
      ]
    },
    {
      "cell_type": "code",
      "metadata": {
        "id": "zMeuMI8XUXsu",
        "colab_type": "code",
        "colab": {
          "base_uri": "https://localhost:8080/",
          "height": 153
        },
        "outputId": "9f7b3006-052c-4775-bf49-ab1fd8a548ea"
      },
      "source": [
        "#check for duplicate columns\n",
        "dupli_col=[]\n",
        "for i in range(0, len(x_train.columns)):\n",
        "  col1= x_train.columns[i]\n",
        "  for col2 in x_train.columns[i+1:]:\n",
        "    if x_train[col1].equals(x_train[col2]):\n",
        "      dupli_col.append(col2)\n",
        "\n",
        "dupli_col"
      ],
      "execution_count": 12,
      "outputs": [
        {
          "output_type": "execute_result",
          "data": {
            "text/plain": [
              "['ind_var40_0',\n",
              " 'ind_var26',\n",
              " 'ind_var25',\n",
              " 'ind_var37',\n",
              " 'num_var40_0',\n",
              " 'num_var26',\n",
              " 'num_var25',\n",
              " 'num_var37']"
            ]
          },
          "metadata": {
            "tags": []
          },
          "execution_count": 12
        }
      ]
    },
    {
      "cell_type": "code",
      "metadata": {
        "id": "zZk9QHpxVp41",
        "colab_type": "code",
        "colab": {
          "base_uri": "https://localhost:8080/",
          "height": 34
        },
        "outputId": "7dde092d-68b4-4e7b-8f02-815ddd3b95f0"
      },
      "source": [
        "x_train.drop(labels=dupli_col, axis=1,inplace=True)\n",
        "x_test.drop(labels=dupli_col, axis=1,inplace=True)\n",
        "x_train.shape,x_test.shape"
      ],
      "execution_count": 16,
      "outputs": [
        {
          "output_type": "execute_result",
          "data": {
            "text/plain": [
              "((20000, 144), (10000, 144))"
            ]
          },
          "metadata": {
            "tags": []
          },
          "execution_count": 16
        }
      ]
    }
  ]
}